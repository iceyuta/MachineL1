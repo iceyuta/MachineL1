import numpy as np

print(np.exp(2))
